{
 "cells": [
  {
   "cell_type": "markdown",
   "id": "b87d83b8",
   "metadata": {},
   "source": [
    "#  Data Science Tools and Ecosystem"
   ]
  },
  {
   "cell_type": "markdown",
   "id": "5fd68f0d",
   "metadata": {},
   "source": [
    "In this notebook, Data Science Tools and Ecosystem are summarized."
   ]
  },
  {
   "cell_type": "markdown",
   "id": "caa4b727",
   "metadata": {},
   "source": [
    "#  some of the key takeaways from the course"
   ]
  },
  {
   "cell_type": "markdown",
   "id": "04546315",
   "metadata": {},
   "source": [
    "**objectives:**\n",
    "- creating Jupyter Notebook\n",
    "- creating markdown cell and using H1,H2,H3 for title and intro\n",
    "- creating order list in markdown cell\n",
    "- creating table in markdown cell\n",
    "- calculating arithmetic expression in code cell"
   ]
  },
  {
   "cell_type": "markdown",
   "id": "9a347c09",
   "metadata": {},
   "source": [
    "**Some of the popular languages that Data Scientists use are:**\n",
    "1. Python\n",
    "2. R\n",
    "3. Java"
   ]
  },
  {
   "cell_type": "markdown",
   "id": "645450d3",
   "metadata": {},
   "source": [
    "**Some of the commonly used libraries used by Data Scientists include:**\n",
    "1. Numpy\n",
    "2. Pandas\n",
    "3. MatplotLib\n",
    "4. ggplot\n",
    "5. scikit Learn"
   ]
  },
  {
   "cell_type": "markdown",
   "id": "c3046fc5",
   "metadata": {},
   "source": [
    "| Data Science Tools |\n",
    "| ------------------ |\n",
    "|Tensor Flow|\n",
    "|Apache Spark|\n",
    "|Anaconda|\n"
   ]
  },
  {
   "cell_type": "markdown",
   "id": "121c35f5",
   "metadata": {},
   "source": [
    "### : Below are a few examples of evaluating arithmetic expressions in Python"
   ]
  },
  {
   "cell_type": "code",
   "execution_count": 1,
   "id": "5cd09e34",
   "metadata": {},
   "outputs": [
    {
     "data": {
      "text/plain": [
       "17"
      ]
     },
     "execution_count": 1,
     "metadata": {},
     "output_type": "execute_result"
    }
   ],
   "source": [
    "#This a simple arithmetic expression to mutiply then add integers\n",
    "(3*4)+5"
   ]
  },
  {
   "cell_type": "code",
   "execution_count": 2,
   "id": "7fae9fa6",
   "metadata": {},
   "outputs": [
    {
     "data": {
      "text/plain": [
       "3.3333333333333335"
      ]
     },
     "execution_count": 2,
     "metadata": {},
     "output_type": "execute_result"
    }
   ],
   "source": [
    "#This will convert 200 minutes to hours by diving by 60\n",
    "200/60"
   ]
  },
  {
   "cell_type": "markdown",
   "id": "901b152a",
   "metadata": {},
   "source": [
    "##  Author\n",
    "Dev Tanna"
   ]
  },
  {
   "cell_type": "code",
   "execution_count": null,
   "id": "6610978e",
   "metadata": {},
   "outputs": [],
   "source": []
  }
 ],
 "metadata": {
  "kernelspec": {
   "display_name": "Python",
   "language": "python",
   "name": "conda-env-python-py"
  },
  "language_info": {
   "codemirror_mode": {
    "name": "ipython",
    "version": 3
   },
   "file_extension": ".py",
   "mimetype": "text/x-python",
   "name": "python",
   "nbconvert_exporter": "python",
   "pygments_lexer": "ipython3",
   "version": "3.7.12"
  }
 },
 "nbformat": 4,
 "nbformat_minor": 5
}
